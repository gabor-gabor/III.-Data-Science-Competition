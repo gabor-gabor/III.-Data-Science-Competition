{
 "cells": [
  {
   "cell_type": "markdown",
   "id": "3408e086",
   "metadata": {},
   "source": [
    "# EDA_4 - Removing the unplanned-generated duplications"
   ]
  },
  {
   "cell_type": "code",
   "execution_count": null,
   "id": "c457cd85",
   "metadata": {},
   "outputs": [],
   "source": [
    "# The preceding operation led to an unrealistic increase in the size of the final appended table. A subsequent root cause -\n",
    "# analysis revealed a significant amount of duplication. Therefore, it was necessary to remove records where all values in -\n",
    "# the duplicates were identical, retaining only those rows where a user performed multiple operations"
   ]
  },
  {
   "cell_type": "code",
   "execution_count": null,
   "id": "45f0264d",
   "metadata": {},
   "outputs": [],
   "source": [
    "import os\n",
    "import pandas as pd\n",
    "from pathlib import Path\n",
    "\n",
    "# 1. Define paths\n",
    "source_dir = r\"C:\\Users\\user\\Desktop\\.....\\PY_10_PYClean_Source_V7\"\n",
    "output_dir = r\"C:\\Users\\user\\Desktop\\.....\\PY_10_PYClean_Source_V10\"\n",
    "\n",
    "# Create output directory if it doesn't exist\n",
    "os.makedirs(output_dir, exist_ok=True)\n",
    "\n",
    "# 2. Process of files\n",
    "for filename in os.listdir(source_dir):\n",
    "    if filename.endswith(\".csv\"):\n",
    "        file_path = os.path.join(source_dir, filename)\n",
    "        df = pd.read_csv(file_path, header=None, dtype=str)  # every column is string\n",
    "\n",
    "        # 3. Remove consecutive duplicate rows\n",
    "        df_cleaned = df.loc[~(df.shift(1) == df).all(axis=1)]\n",
    "\n",
    "        # 4. Save to new fplder\n",
    "        output_path = os.path.join(output_dir, filename)\n",
    "        df_cleaned.to_csv(output_path, index=False, header=False, encoding='utf-8-sig')\n",
    "\n",
    "        print(f\"{filename} processed and saved.\")\n",
    "\n",
    "print(\"✅ All files processed and saved in V10 folder.\")\n"
   ]
  }
 ],
 "metadata": {
  "kernelspec": {
   "display_name": "Python 3 (ipykernel)",
   "language": "python",
   "name": "python3"
  },
  "language_info": {
   "codemirror_mode": {
    "name": "ipython",
    "version": 3
   },
   "file_extension": ".py",
   "mimetype": "text/x-python",
   "name": "python",
   "nbconvert_exporter": "python",
   "pygments_lexer": "ipython3",
   "version": "3.9.13"
  }
 },
 "nbformat": 4,
 "nbformat_minor": 5
}
