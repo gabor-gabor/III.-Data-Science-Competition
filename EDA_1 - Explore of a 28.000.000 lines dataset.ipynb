{
 "cells": [
  {
   "cell_type": "markdown",
   "id": "948b08d9",
   "metadata": {},
   "source": [
    "# EDA_1 - Explore of a 28.000.000 lines dataset"
   ]
  },
  {
   "cell_type": "code",
   "execution_count": null,
   "id": "0a574d4d",
   "metadata": {},
   "outputs": [],
   "source": [
    "import numpy as np\n",
    "import pandas as pd\n",
    "\n",
    "input_file_path = \"C:/Users/user/Desktop/......../teleprompter_hashed_fixed.csv\"\n",
    "        \n",
    "telprom = pd.read_csv(input_file_path, sep=\";\")"
   ]
  },
  {
   "cell_type": "code",
   "execution_count": 4,
   "id": "408d2bc1",
   "metadata": {},
   "outputs": [
    {
     "data": {
      "text/html": [
       "<div>\n",
       "<style scoped>\n",
       "    .dataframe tbody tr th:only-of-type {\n",
       "        vertical-align: middle;\n",
       "    }\n",
       "\n",
       "    .dataframe tbody tr th {\n",
       "        vertical-align: top;\n",
       "    }\n",
       "\n",
       "    .dataframe thead th {\n",
       "        text-align: right;\n",
       "    }\n",
       "</style>\n",
       "<table border=\"1\" class=\"dataframe\">\n",
       "  <thead>\n",
       "    <tr style=\"text-align: right;\">\n",
       "      <th></th>\n",
       "      <th>event</th>\n",
       "      <th>event_time</th>\n",
       "      <th>distinct_id</th>\n",
       "      <th>os_version</th>\n",
       "      <th>country_code</th>\n",
       "    </tr>\n",
       "  </thead>\n",
       "  <tbody>\n",
       "    <tr>\n",
       "      <th>0</th>\n",
       "      <td>Homescreen</td>\n",
       "      <td>1738465957</td>\n",
       "      <td>$device:user_60299947607494</td>\n",
       "      <td>18.1.1</td>\n",
       "      <td>RU</td>\n",
       "    </tr>\n",
       "    <tr>\n",
       "      <th>1</th>\n",
       "      <td>Player_screen</td>\n",
       "      <td>1738465957</td>\n",
       "      <td>$device:user_60299947607494</td>\n",
       "      <td>18.1.1</td>\n",
       "      <td>RU</td>\n",
       "    </tr>\n",
       "    <tr>\n",
       "      <th>2</th>\n",
       "      <td>updateScript</td>\n",
       "      <td>1738465958</td>\n",
       "      <td>$device:user_60299947607494</td>\n",
       "      <td>18.1.1</td>\n",
       "      <td>RU</td>\n",
       "    </tr>\n",
       "    <tr>\n",
       "      <th>3</th>\n",
       "      <td>Homescreen</td>\n",
       "      <td>1738465959</td>\n",
       "      <td>$device:user_60299947607494</td>\n",
       "      <td>18.1.1</td>\n",
       "      <td>RU</td>\n",
       "    </tr>\n",
       "    <tr>\n",
       "      <th>4</th>\n",
       "      <td>$ae_session</td>\n",
       "      <td>1738465960</td>\n",
       "      <td>$device:user_60299947607494</td>\n",
       "      <td>18.1.1</td>\n",
       "      <td>RU</td>\n",
       "    </tr>\n",
       "  </tbody>\n",
       "</table>\n",
       "</div>"
      ],
      "text/plain": [
       "           event  event_time                  distinct_id os_version  \\\n",
       "0     Homescreen  1738465957  $device:user_60299947607494     18.1.1   \n",
       "1  Player_screen  1738465957  $device:user_60299947607494     18.1.1   \n",
       "2   updateScript  1738465958  $device:user_60299947607494     18.1.1   \n",
       "3     Homescreen  1738465959  $device:user_60299947607494     18.1.1   \n",
       "4    $ae_session  1738465960  $device:user_60299947607494     18.1.1   \n",
       "\n",
       "  country_code  \n",
       "0           RU  \n",
       "1           RU  \n",
       "2           RU  \n",
       "3           RU  \n",
       "4           RU  "
      ]
     },
     "execution_count": 4,
     "metadata": {},
     "output_type": "execute_result"
    }
   ],
   "source": [
    "telprom.head()"
   ]
  },
  {
   "cell_type": "code",
   "execution_count": 6,
   "id": "ee81bd4e",
   "metadata": {},
   "outputs": [
    {
     "data": {
      "text/html": [
       "<div>\n",
       "<style scoped>\n",
       "    .dataframe tbody tr th:only-of-type {\n",
       "        vertical-align: middle;\n",
       "    }\n",
       "\n",
       "    .dataframe tbody tr th {\n",
       "        vertical-align: top;\n",
       "    }\n",
       "\n",
       "    .dataframe thead th {\n",
       "        text-align: right;\n",
       "    }\n",
       "</style>\n",
       "<table border=\"1\" class=\"dataframe\">\n",
       "  <thead>\n",
       "    <tr style=\"text-align: right;\">\n",
       "      <th></th>\n",
       "      <th>event_time</th>\n",
       "    </tr>\n",
       "  </thead>\n",
       "  <tbody>\n",
       "    <tr>\n",
       "      <th>count</th>\n",
       "      <td>2.854549e+07</td>\n",
       "    </tr>\n",
       "    <tr>\n",
       "      <th>mean</th>\n",
       "      <td>1.738523e+09</td>\n",
       "    </tr>\n",
       "    <tr>\n",
       "      <th>std</th>\n",
       "      <td>1.442741e+06</td>\n",
       "    </tr>\n",
       "    <tr>\n",
       "      <th>min</th>\n",
       "      <td>1.735690e+09</td>\n",
       "    </tr>\n",
       "    <tr>\n",
       "      <th>25%</th>\n",
       "      <td>1.737330e+09</td>\n",
       "    </tr>\n",
       "    <tr>\n",
       "      <th>50%</th>\n",
       "      <td>1.738645e+09</td>\n",
       "    </tr>\n",
       "    <tr>\n",
       "      <th>75%</th>\n",
       "      <td>1.739813e+09</td>\n",
       "    </tr>\n",
       "    <tr>\n",
       "      <th>max</th>\n",
       "      <td>1.740787e+09</td>\n",
       "    </tr>\n",
       "  </tbody>\n",
       "</table>\n",
       "</div>"
      ],
      "text/plain": [
       "         event_time\n",
       "count  2.854549e+07\n",
       "mean   1.738523e+09\n",
       "std    1.442741e+06\n",
       "min    1.735690e+09\n",
       "25%    1.737330e+09\n",
       "50%    1.738645e+09\n",
       "75%    1.739813e+09\n",
       "max    1.740787e+09"
      ]
     },
     "execution_count": 6,
     "metadata": {},
     "output_type": "execute_result"
    }
   ],
   "source": [
    "telprom.describe()"
   ]
  },
  {
   "cell_type": "code",
   "execution_count": 4,
   "id": "8e100d92",
   "metadata": {},
   "outputs": [
    {
     "name": "stdout",
     "output_type": "stream",
     "text": [
      "<class 'pandas.core.frame.DataFrame'>\n",
      "RangeIndex: 28545487 entries, 0 to 28545486\n",
      "Data columns (total 5 columns):\n",
      " #   Column        Dtype \n",
      "---  ------        ----- \n",
      " 0   event         object\n",
      " 1   event_time    int64 \n",
      " 2   distinct_id   object\n",
      " 3   os_version    object\n",
      " 4   country_code  object\n",
      "dtypes: int64(1), object(4)\n",
      "memory usage: 1.1+ GB\n"
     ]
    }
   ],
   "source": [
    "telprom.info()"
   ]
  }
 ],
 "metadata": {
  "kernelspec": {
   "display_name": "Python 3 (ipykernel)",
   "language": "python",
   "name": "python3"
  },
  "language_info": {
   "codemirror_mode": {
    "name": "ipython",
    "version": 3
   },
   "file_extension": ".py",
   "mimetype": "text/x-python",
   "name": "python",
   "nbconvert_exporter": "python",
   "pygments_lexer": "ipython3",
   "version": "3.9.13"
  }
 },
 "nbformat": 4,
 "nbformat_minor": 5
}
