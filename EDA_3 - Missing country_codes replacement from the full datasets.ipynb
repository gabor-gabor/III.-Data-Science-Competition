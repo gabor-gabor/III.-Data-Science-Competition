{
 "cells": [
  {
   "cell_type": "markdown",
   "id": "85b133a7",
   "metadata": {},
   "source": [
    "# EDA_3 - Missing country_codes replacement from the full datasets"
   ]
  },
  {
   "cell_type": "code",
   "execution_count": null,
   "id": "ba5ca8ed",
   "metadata": {},
   "outputs": [],
   "source": [
    "# Initially, the 10 critical working files lacked country_codes. To address this, a script was developed to merge these -\n",
    "# 10 files into a unified array using an append method. Following this, the script generates pairs from the customer - \n",
    "# identifier and event timestamp, and then attempts to find corresponding matches for these pairs across the comprehensive - \n",
    "# 28-million-row database. The goal is to ascertain if country_codes are present in other event types through these matches. \n",
    "# Should a match be found, the relevant country_code is to be inserted into the newly appended table."
   ]
  },
  {
   "cell_type": "code",
   "execution_count": null,
   "id": "f5d913fc",
   "metadata": {},
   "outputs": [],
   "source": [
    "import os\n",
    "import pandas as pd\n",
    "import numpy as np\n",
    "from pathlib import Path\n",
    "\n",
    "# Define paths\n",
    "source_dir = r\"C:\\Users\\user\\Desktop\\.....\\PY_10_PYClean_Source_V6\"\n",
    "output_dir = r\"C:\\Users\\user\\Desktop\\.....\\PY_10_PYClean_Source_V7\"\n",
    "full_db_path = r\"C:/Users/user/Desktop/...../teleprompter_hashed_fixed_v3.csv\"\n",
    "\n",
    "# List of input files\n",
    "input_files = [\n",
    "    \"billing_issue_event\", \"cancellation_event\", \"expiration_event\", \"initial_purchase_event\",\n",
    "    \"product_change_event\", \"renewal_event\", \"trial_cancelled_event\", \"trial_converted_event\",\n",
    "    \"trial_started_event\", \"uncancellation_event\"\n",
    "]\n",
    "\n",
    "# Read and append all CSVs\n",
    "dfs = []\n",
    "for file in input_files:\n",
    "    file_path = os.path.join(source_dir, f\"{file}.csv\")\n",
    "    df = pd.read_csv(file_path)\n",
    "    dfs.append(df)\n",
    "appended_df = pd.concat(dfs, ignore_index=True)\n",
    "print(\"✅ 10 tábla összeappendelve\")\n",
    "\n",
    "# Read full database with correct separator\n",
    "full_db_df = pd.read_csv(full_db_path, sep=';')\n",
    "print(f\"✅ Eredeti adatbázis betöltve, oszlopok: {list(full_db_df.columns)}\")\n",
    "\n",
    "# Clean distinct_id to keep only numbers\n",
    "full_db_df['distinct_id'] = full_db_df['distinct_id'].astype(str).str.extract('(\\d+)', expand=False)\n",
    "\n",
    "# Filter known country_code\n",
    "known_country_df = full_db_df[full_db_df['country_code'] != 'unknown'][['distinct_id', 'event_date', 'country_code']]\n",
    "\n",
    "# Ensure correct types for merging\n",
    "appended_df['distinct_id'] = appended_df['distinct_id'].astype(str)\n",
    "known_country_df['distinct_id'] = known_country_df['distinct_id'].astype(str)\n",
    "\n",
    "# Merge on distinct_id + event_date\n",
    "merged_df = pd.merge(\n",
    "    appended_df,\n",
    "    known_country_df,\n",
    "    on=['distinct_id', 'event_date'],\n",
    "    how='left',\n",
    "    suffixes=('', '_new')\n",
    ")\n",
    "\n",
    "# Fill 'unknown' country_code with found values\n",
    "merged_df['country_code'] = np.where(\n",
    "    merged_df['country_code'] == 'unknown',\n",
    "    merged_df['country_code_new'],\n",
    "    merged_df['country_code']\n",
    ")\n",
    "\n",
    "# Drop the helper column\n",
    "merged_df = merged_df.drop(columns=['country_code_new'])\n",
    "\n",
    "# Save split files back to V7 folder\n",
    "for file in input_files:\n",
    "    output_path = os.path.join(output_dir, f\"{file}.csv\")\n",
    "    df_part = merged_df[merged_df['event'] == file]\n",
    "    df_part.to_csv(output_path, index=False)\n",
    "    print(f\"✅ {file} elmentve ide: {output_path}\")\n",
    "\n",
    "print(\"🎉 Ok!\")"
   ]
  }
 ],
 "metadata": {
  "kernelspec": {
   "display_name": "Python 3 (ipykernel)",
   "language": "python",
   "name": "python3"
  },
  "language_info": {
   "codemirror_mode": {
    "name": "ipython",
    "version": 3
   },
   "file_extension": ".py",
   "mimetype": "text/x-python",
   "name": "python",
   "nbconvert_exporter": "python",
   "pygments_lexer": "ipython3",
   "version": "3.9.13"
  }
 },
 "nbformat": 4,
 "nbformat_minor": 5
}
